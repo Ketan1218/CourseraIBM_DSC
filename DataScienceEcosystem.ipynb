{
  "metadata": {
    "kernelspec": {
      "name": "python",
      "display_name": "Python (Pyodide)",
      "language": "python"
    },
    "language_info": {
      "codemirror_mode": {
        "name": "python",
        "version": 3
      },
      "file_extension": ".py",
      "mimetype": "text/x-python",
      "name": "python",
      "nbconvert_exporter": "python",
      "pygments_lexer": "ipython3",
      "version": "3.8"
    }
  },
  "nbformat_minor": 4,
  "nbformat": 4,
  "cells": [
    {
      "cell_type": "markdown",
      "source": "<center>\n    <img src=\"https://cf-courses-data.s3.us.cloud-object-storage.appdomain.cloud/IBMDeveloperSkillsNetwork-DS0105EN-SkillsNetwork/labs/Module2/images/SN_web_lightmode.png\" width=\"300\" alt=\"cognitiveclass.ai logo\">\n</center>\n",
      "metadata": {}
    },
    {
      "cell_type": "markdown",
      "source": "#### Add your code below following the instructions given in the course\n",
      "metadata": {}
    },
    {
      "cell_type": "markdown",
      "source": "My Jupyter Notebook on IBM Watson Studio.\n\nKetan\n\nA 100% Human\n\nI am learning this Data Science course becuase i want to be a data scientist and this course is awesome.\n",
      "metadata": {}
    },
    {
      "cell_type": "markdown",
      "source": "# This is a following code of a simple Calculator. ",
      "metadata": {}
    },
    {
      "cell_type": "code",
      "source": "num1 = input(\"Insert a number: \")\nvariable = input(\"Insert a variable(+, -, *, /): \")\nnum2 = input(\"Insert a number: \")\n\nadd = float(num1) + float(num2)\nsubtract = float(num1) - float(num2)\nmultiply = float(num1) * float(num2)\ndivide = float(num1) / float(num2)\nFloor Division = float(num1) // float(num2)\nExponential = float(num1) ** float(num2)\n\nif variable == \"+\":\n    print (add)\n\nelif variable == \"-\":\n    print(subtract)\n\nelif variable == \"*\":\n    print(multiply)\n\nelif variable == \"/\":\n    print(divide)\n  \nelif variable == \"//\":\n    print(Floor Division)\n\n  elif variable == \"**\":\n    print(Exponential)\n\nelse:\n    print(\"Error: Invalid Input\")",
      "metadata": {},
      "execution_count": null,
      "outputs": []
    }
  ]
}